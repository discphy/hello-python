{
 "cells": [
  {
   "cell_type": "code",
   "outputs": [
    {
     "name": "stdout",
     "output_type": "stream",
     "text": [
      "0dd\n"
     ]
    }
   ],
   "source": [
    "a = \"0dd\"\n",
    "\n",
    "print(a)"
   ],
   "metadata": {
    "collapsed": false,
    "ExecuteTime": {
     "end_time": "2024-03-04T05:00:22.691999Z",
     "start_time": "2024-03-04T05:00:22.686829Z"
    }
   },
   "id": "d28d5e2deafba11f",
   "execution_count": 7
  },
  {
   "cell_type": "code",
   "execution_count": 8,
   "id": "initial_id",
   "metadata": {
    "collapsed": true,
    "ExecuteTime": {
     "end_time": "2024-03-04T05:00:23.867902Z",
     "start_time": "2024-03-04T05:00:23.864096Z"
    }
   },
   "outputs": [
    {
     "name": "stdout",
     "output_type": "stream",
     "text": [
      "hello world\n"
     ]
    }
   ],
   "source": [
    "print(\"hello world\")"
   ]
  },
  {
   "cell_type": "markdown",
   "source": [
    "```java\n",
    "public class helloController { \n",
    "\n",
    "}\n",
    "```\n",
    "\n",
    "### 안녕 하세요 \n",
    "\n",
    "---\n",
    "\n",
    "자바입니다"
   ],
   "metadata": {
    "collapsed": false
   },
   "id": "801a403c41bb76bd"
  },
  {
   "cell_type": "code",
   "outputs": [],
   "source": [],
   "metadata": {
    "collapsed": false,
    "ExecuteTime": {
     "end_time": "2024-03-04T05:00:26.445340Z",
     "start_time": "2024-03-04T05:00:26.443158Z"
    }
   },
   "id": "e8ee44b13e1db31e",
   "execution_count": 8
  },
  {
   "cell_type": "code",
   "outputs": [],
   "source": [],
   "metadata": {
    "collapsed": false,
    "ExecuteTime": {
     "end_time": "2024-03-04T05:00:27.573513Z",
     "start_time": "2024-03-04T05:00:27.570970Z"
    }
   },
   "id": "4130d56a745f8735",
   "execution_count": 8
  },
  {
   "cell_type": "code",
   "outputs": [],
   "source": [],
   "metadata": {
    "collapsed": false
   },
   "id": "2864c0c777f5a97b"
  }
 ],
 "metadata": {
  "kernelspec": {
   "display_name": "Python 3",
   "language": "python",
   "name": "python3"
  },
  "language_info": {
   "codemirror_mode": {
    "name": "ipython",
    "version": 2
   },
   "file_extension": ".py",
   "mimetype": "text/x-python",
   "name": "python",
   "nbconvert_exporter": "python",
   "pygments_lexer": "ipython2",
   "version": "2.7.6"
  }
 },
 "nbformat": 4,
 "nbformat_minor": 5
}
